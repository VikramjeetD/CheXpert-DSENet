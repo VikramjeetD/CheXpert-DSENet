{
 "cells": [
  {
   "cell_type": "code",
   "execution_count": 0,
   "metadata": {
    "colab": {
     "base_uri": "https://localhost:8080/",
     "height": 122
    },
    "colab_type": "code",
    "executionInfo": {
     "elapsed": 28292,
     "status": "ok",
     "timestamp": 1588937554393,
     "user": {
      "displayName": "Vikramjeet Das",
      "photoUrl": "",
      "userId": "06313345172893405187"
     },
     "user_tz": -330
    },
    "id": "zNwYRmjgHQ2s",
    "outputId": "12110dee-2eea-4681-f9eb-92ef658676c5"
   },
   "outputs": [
    {
     "name": "stdout",
     "output_type": "stream",
     "text": [
      "Go to this URL in a browser: https://accounts.google.com/o/oauth2/auth?client_id=947318989803-6bn6qk8qdgf4n4g3pfee6491hc0brc4i.apps.googleusercontent.com&redirect_uri=urn%3aietf%3awg%3aoauth%3a2.0%3aoob&response_type=code&scope=email%20https%3a%2f%2fwww.googleapis.com%2fauth%2fdocs.test%20https%3a%2f%2fwww.googleapis.com%2fauth%2fdrive%20https%3a%2f%2fwww.googleapis.com%2fauth%2fdrive.photos.readonly%20https%3a%2f%2fwww.googleapis.com%2fauth%2fpeopleapi.readonly\n",
      "\n",
      "Enter your authorization code:\n",
      "··········\n",
      "Mounted at /content/drive\n"
     ]
    }
   ],
   "source": [
    "from google.colab import drive\n",
    "drive.mount('/content/drive')"
   ]
  },
  {
   "cell_type": "code",
   "execution_count": 0,
   "metadata": {
    "colab": {},
    "colab_type": "code",
    "id": "2US0AXFQHh4C"
   },
   "outputs": [],
   "source": [
    "# Copy data from drive. Data was downsampled and divided into 32 disjoint parts\n",
    "!cp drive/My\\ Drive/Colab\\ Notebooks/cheXpert/p1.zip .\n",
    "!cp drive/My\\ Drive/Colab\\ Notebooks/cheXpert/p2.zip .\n",
    "!cp drive/My\\ Drive/Colab\\ Notebooks/cheXpert/p3.zip .\n",
    "!cp drive/My\\ Drive/Colab\\ Notebooks/cheXpert/p4.zip .\n",
    "!cp drive/My\\ Drive/Colab\\ Notebooks/cheXpert/p5.zip .\n",
    "!cp drive/My\\ Drive/Colab\\ Notebooks/cheXpert/p6.zip .\n",
    "!cp drive/My\\ Drive/Colab\\ Notebooks/cheXpert/p7.zip .\n",
    "!cp drive/My\\ Drive/Colab\\ Notebooks/cheXpert/p8.zip .\n",
    "!cp drive/My\\ Drive/Colab\\ Notebooks/cheXpert/p9.zip .\n",
    "!cp drive/My\\ Drive/Colab\\ Notebooks/cheXpert/p10.zip .\n",
    "!cp drive/My\\ Drive/Colab\\ Notebooks/cheXpert/p11.zip .\n",
    "!cp drive/My\\ Drive/Colab\\ Notebooks/cheXpert/p12.zip .\n",
    "!cp drive/My\\ Drive/Colab\\ Notebooks/cheXpert/p13.zip .\n",
    "!cp drive/My\\ Drive/Colab\\ Notebooks/cheXpert/p14.zip .\n",
    "!cp drive/My\\ Drive/Colab\\ Notebooks/cheXpert/p15.zip .\n",
    "!cp drive/My\\ Drive/Colab\\ Notebooks/cheXpert/p16.zip .\n",
    "!cp drive/My\\ Drive/Colab\\ Notebooks/cheXpert/p17.zip .\n",
    "!cp drive/My\\ Drive/Colab\\ Notebooks/cheXpert/p18.zip .\n",
    "!cp drive/My\\ Drive/Colab\\ Notebooks/cheXpert/p19.zip .\n",
    "!cp drive/My\\ Drive/Colab\\ Notebooks/cheXpert/p20.zip .\n",
    "!cp drive/My\\ Drive/Colab\\ Notebooks/cheXpert/p21.zip .\n",
    "!cp drive/My\\ Drive/Colab\\ Notebooks/cheXpert/p22.zip .\n",
    "!cp drive/My\\ Drive/Colab\\ Notebooks/cheXpert/p23.zip .\n",
    "!cp drive/My\\ Drive/Colab\\ Notebooks/cheXpert/p24.zip .\n",
    "!cp drive/My\\ Drive/Colab\\ Notebooks/cheXpert/p25.zip .\n",
    "!cp drive/My\\ Drive/Colab\\ Notebooks/cheXpert/p26.zip .\n",
    "!cp drive/My\\ Drive/Colab\\ Notebooks/cheXpert/p27.zip .\n",
    "!cp drive/My\\ Drive/Colab\\ Notebooks/cheXpert/p28.zip .\n",
    "!cp drive/My\\ Drive/Colab\\ Notebooks/cheXpert/p29.zip .\n",
    "!cp drive/My\\ Drive/Colab\\ Notebooks/cheXpert/p30.zip .\n",
    "!cp drive/My\\ Drive/Colab\\ Notebooks/cheXpert/p31.zip .\n",
    "!cp drive/My\\ Drive/Colab\\ Notebooks/cheXpert/p32.zip .\n",
    "!cp drive/My\\ Drive/Colab\\ Notebooks/cheXpert/val.zip .\n",
    "!cp drive/My\\ Drive/Colab\\ Notebooks/cheXpert/train.csv .\n",
    "!cp drive/My\\ Drive/Colab\\ Notebooks/cheXpert/valid.csv .\n",
    "!cp -r drive/My\\ Drive/Colab\\ Notebooks/cheXpert/CheXpert-resized_1channel ."
   ]
  },
  {
   "cell_type": "code",
   "execution_count": 1,
   "metadata": {
    "colab": {
     "base_uri": "https://localhost:8080/",
     "height": 1000
    },
    "colab_type": "code",
    "executionInfo": {
     "elapsed": 305579,
     "status": "ok",
     "timestamp": 1588938022912,
     "user": {
      "displayName": "Vikramjeet Das",
      "photoUrl": "",
      "userId": "06313345172893405187"
     },
     "user_tz": -330
    },
    "id": "iXSZtDVGHh-A",
    "outputId": "32266e90-aaa3-459a-883b-d6de1a9378f2"
   },
   "outputs": [],
   "source": [
    "!unzip p1.zip -d CheXpert-resized_1channel/train\n",
    "!rm p1.zip\n",
    "!unzip p2.zip -d CheXpert-resized_1channel/train\n",
    "!rm p2.zip\n",
    "!unzip p3.zip -d CheXpert-resized_1channel/train\n",
    "!rm p3.zip\n",
    "!unzip p4.zip -d CheXpert-resized_1channel/train\n",
    "!rm p4.zip\n",
    "!unzip p5.zip -d CheXpert-resized_1channel/train\n",
    "!rm p5.zip\n",
    "!unzip p6.zip -d CheXpert-resized_1channel/train\n",
    "!rm p6.zip\n",
    "!unzip p7.zip -d CheXpert-resized_1channel/train\n",
    "!rm p7.zip\n",
    "!unzip p8.zip -d CheXpert-resized_1channel/train\n",
    "!rm p8.zip\n",
    "!unzip p9.zip -d CheXpert-resized_1channel/train\n",
    "!rm p9.zip\n",
    "!unzip p10.zip -d CheXpert-resized_1channel/train\n",
    "!rm p10.zip\n",
    "!unzip p11.zip -d CheXpert-resized_1channel/train\n",
    "!rm p11.zip\n",
    "!unzip p12.zip -d CheXpert-resized_1channel/train\n",
    "!rm p12.zip\n",
    "!unzip p13.zip -d CheXpert-resized_1channel/train\n",
    "!rm p13.zip\n",
    "!unzip p14.zip -d CheXpert-resized_1channel/train\n",
    "!rm p14.zip\n",
    "!unzip p15.zip -d CheXpert-resized_1channel/train\n",
    "!rm p15.zip\n",
    "!unzip p16.zip -d CheXpert-resized_1channel/train\n",
    "!rm p16.zip\n",
    "!unzip p17.zip -d CheXpert-resized_1channel/train\n",
    "!rm p17.zip\n",
    "!unzip p18.zip -d CheXpert-resized_1channel/train\n",
    "!rm p18.zip\n",
    "!unzip p19.zip -d CheXpert-resized_1channel/train\n",
    "!rm p19.zip\n",
    "!unzip p20.zip -d CheXpert-resized_1channel/train\n",
    "!rm p20.zip\n",
    "!unzip p21.zip -d CheXpert-resized_1channel/train\n",
    "!rm p21.zip\n",
    "!unzip p22.zip -d CheXpert-resized_1channel/train\n",
    "!rm p22.zip\n",
    "!unzip p23.zip -d CheXpert-resized_1channel/train\n",
    "!rm p23.zip\n",
    "!unzip p24.zip -d CheXpert-resized_1channel/train\n",
    "!rm p24.zip\n",
    "!unzip p25.zip -d CheXpert-resized_1channel/train\n",
    "!rm p25.zip\n",
    "!unzip p26.zip -d CheXpert-resized_1channel/train\n",
    "!rm p26.zip\n",
    "!unzip p27.zip -d CheXpert-resized_1channel/train\n",
    "!rm p27.zip\n",
    "!unzip p28.zip -d CheXpert-resized_1channel/train\n",
    "!rm p28.zip\n",
    "!unzip p29.zip -d CheXpert-resized_1channel/train\n",
    "!rm p29.zip\n",
    "!unzip p30.zip -d CheXpert-resized_1channel/train\n",
    "!rm p30.zip\n",
    "!unzip p31.zip -d CheXpert-resized_1channel/train\n",
    "!rm p31.zip\n",
    "!unzip p32.zip -d CheXpert-resized_1channel/train\n",
    "!rm p32.zip\n",
    "!unzip val.zip -d CheXpert-resized_1channel/valid\n",
    "!rm val.zip"
   ]
  },
  {
   "cell_type": "code",
   "execution_count": 0,
   "metadata": {
    "colab": {},
    "colab_type": "code",
    "id": "bdEFF3FpHUro"
   },
   "outputs": [],
   "source": [
    "import os\n",
    "import numpy as np\n",
    "import pandas as pd\n",
    "from PIL import Image\n",
    "import datetime\n",
    "import random\n",
    "import seaborn as sns\n",
    "\n",
    "train = pd.read_csv('train.csv')\n",
    "# Unknowns filled with zeros. More fine grained changes could be made like described in the paper to treat them in different ways, \n",
    "# which are not explored due to computation constraints on colab\n",
    "train = train.replace(-1, 0)\n",
    "train = train.fillna(0)\n",
    "\n",
    "disease_list = ['Atelectasis', 'Cardiomegaly', 'Consolidation', 'Edema', 'Pleural Effusion']\n",
    "cols = ['Path', 'Atelectasis', 'Cardiomegaly', 'Consolidation', 'Edema', 'Pleural Effusion']"
   ]
  },
  {
   "cell_type": "code",
   "execution_count": 0,
   "metadata": {
    "colab": {
     "base_uri": "https://localhost:8080/",
     "height": 34
    },
    "colab_type": "code",
    "executionInfo": {
     "elapsed": 1226,
     "status": "ok",
     "timestamp": 1588939026674,
     "user": {
      "displayName": "Vikramjeet Das",
      "photoUrl": "",
      "userId": "06313345172893405187"
     },
     "user_tz": -330
    },
    "id": "qjt9-D5dH24t",
    "outputId": "d3e76c9d-9f9e-4469-a328-d0fb30d3cc52"
   },
   "outputs": [
    {
     "data": {
      "text/plain": [
       "223414"
      ]
     },
     "execution_count": 28,
     "metadata": {
      "tags": []
     },
     "output_type": "execute_result"
    }
   ],
   "source": [
    "len(train)"
   ]
  },
  {
   "cell_type": "code",
   "execution_count": 0,
   "metadata": {
    "colab": {
     "base_uri": "https://localhost:8080/",
     "height": 326
    },
    "colab_type": "code",
    "executionInfo": {
     "elapsed": 1081,
     "status": "ok",
     "timestamp": 1588939055688,
     "user": {
      "displayName": "Vikramjeet Das",
      "photoUrl": "",
      "userId": "06313345172893405187"
     },
     "user_tz": -330
    },
    "id": "oXiIUwXDHQ20",
    "outputId": "5177f5cf-a4e7-4ac0-e280-ba345fc71a98"
   },
   "outputs": [
    {
     "data": {
      "text/html": [
       "<div>\n",
       "<style scoped>\n",
       "    .dataframe tbody tr th:only-of-type {\n",
       "        vertical-align: middle;\n",
       "    }\n",
       "\n",
       "    .dataframe tbody tr th {\n",
       "        vertical-align: top;\n",
       "    }\n",
       "\n",
       "    .dataframe thead th {\n",
       "        text-align: right;\n",
       "    }\n",
       "</style>\n",
       "<table border=\"1\" class=\"dataframe\">\n",
       "  <thead>\n",
       "    <tr style=\"text-align: right;\">\n",
       "      <th></th>\n",
       "      <th>Path</th>\n",
       "      <th>Sex</th>\n",
       "      <th>Age</th>\n",
       "      <th>Frontal/Lateral</th>\n",
       "      <th>AP/PA</th>\n",
       "      <th>No Finding</th>\n",
       "      <th>Enlarged Cardiomediastinum</th>\n",
       "      <th>Cardiomegaly</th>\n",
       "      <th>Lung Opacity</th>\n",
       "      <th>Lung Lesion</th>\n",
       "      <th>Edema</th>\n",
       "      <th>Consolidation</th>\n",
       "      <th>Pneumonia</th>\n",
       "      <th>Atelectasis</th>\n",
       "      <th>Pneumothorax</th>\n",
       "      <th>Pleural Effusion</th>\n",
       "      <th>Pleural Other</th>\n",
       "      <th>Fracture</th>\n",
       "      <th>Support Devices</th>\n",
       "    </tr>\n",
       "  </thead>\n",
       "  <tbody>\n",
       "    <tr>\n",
       "      <th>0</th>\n",
       "      <td>CheXpert-v1.0-small/train/patient00001/study1/...</td>\n",
       "      <td>Female</td>\n",
       "      <td>68</td>\n",
       "      <td>Frontal</td>\n",
       "      <td>AP</td>\n",
       "      <td>1.0</td>\n",
       "      <td>0.0</td>\n",
       "      <td>0.0</td>\n",
       "      <td>0.0</td>\n",
       "      <td>0.0</td>\n",
       "      <td>0.0</td>\n",
       "      <td>0.0</td>\n",
       "      <td>0.0</td>\n",
       "      <td>0.0</td>\n",
       "      <td>0.0</td>\n",
       "      <td>0.0</td>\n",
       "      <td>0.0</td>\n",
       "      <td>0.0</td>\n",
       "      <td>1.0</td>\n",
       "    </tr>\n",
       "    <tr>\n",
       "      <th>1</th>\n",
       "      <td>CheXpert-v1.0-small/train/patient00002/study2/...</td>\n",
       "      <td>Female</td>\n",
       "      <td>87</td>\n",
       "      <td>Frontal</td>\n",
       "      <td>AP</td>\n",
       "      <td>0.0</td>\n",
       "      <td>0.0</td>\n",
       "      <td>0.0</td>\n",
       "      <td>1.0</td>\n",
       "      <td>0.0</td>\n",
       "      <td>0.0</td>\n",
       "      <td>0.0</td>\n",
       "      <td>0.0</td>\n",
       "      <td>0.0</td>\n",
       "      <td>0.0</td>\n",
       "      <td>0.0</td>\n",
       "      <td>0.0</td>\n",
       "      <td>1.0</td>\n",
       "      <td>0.0</td>\n",
       "    </tr>\n",
       "    <tr>\n",
       "      <th>2</th>\n",
       "      <td>CheXpert-v1.0-small/train/patient00002/study1/...</td>\n",
       "      <td>Female</td>\n",
       "      <td>83</td>\n",
       "      <td>Frontal</td>\n",
       "      <td>AP</td>\n",
       "      <td>0.0</td>\n",
       "      <td>0.0</td>\n",
       "      <td>0.0</td>\n",
       "      <td>1.0</td>\n",
       "      <td>0.0</td>\n",
       "      <td>0.0</td>\n",
       "      <td>0.0</td>\n",
       "      <td>0.0</td>\n",
       "      <td>0.0</td>\n",
       "      <td>0.0</td>\n",
       "      <td>0.0</td>\n",
       "      <td>0.0</td>\n",
       "      <td>1.0</td>\n",
       "      <td>0.0</td>\n",
       "    </tr>\n",
       "    <tr>\n",
       "      <th>3</th>\n",
       "      <td>CheXpert-v1.0-small/train/patient00003/study1/...</td>\n",
       "      <td>Male</td>\n",
       "      <td>41</td>\n",
       "      <td>Frontal</td>\n",
       "      <td>AP</td>\n",
       "      <td>0.0</td>\n",
       "      <td>0.0</td>\n",
       "      <td>0.0</td>\n",
       "      <td>0.0</td>\n",
       "      <td>0.0</td>\n",
       "      <td>1.0</td>\n",
       "      <td>0.0</td>\n",
       "      <td>0.0</td>\n",
       "      <td>0.0</td>\n",
       "      <td>0.0</td>\n",
       "      <td>0.0</td>\n",
       "      <td>0.0</td>\n",
       "      <td>0.0</td>\n",
       "      <td>0.0</td>\n",
       "    </tr>\n",
       "    <tr>\n",
       "      <th>4</th>\n",
       "      <td>CheXpert-v1.0-small/train/patient00004/study1/...</td>\n",
       "      <td>Female</td>\n",
       "      <td>20</td>\n",
       "      <td>Frontal</td>\n",
       "      <td>PA</td>\n",
       "      <td>1.0</td>\n",
       "      <td>0.0</td>\n",
       "      <td>0.0</td>\n",
       "      <td>0.0</td>\n",
       "      <td>0.0</td>\n",
       "      <td>0.0</td>\n",
       "      <td>0.0</td>\n",
       "      <td>0.0</td>\n",
       "      <td>0.0</td>\n",
       "      <td>0.0</td>\n",
       "      <td>0.0</td>\n",
       "      <td>0.0</td>\n",
       "      <td>0.0</td>\n",
       "      <td>0.0</td>\n",
       "    </tr>\n",
       "  </tbody>\n",
       "</table>\n",
       "</div>"
      ],
      "text/plain": [
       "                                                Path  ... Support Devices\n",
       "0  CheXpert-v1.0-small/train/patient00001/study1/...  ...             1.0\n",
       "1  CheXpert-v1.0-small/train/patient00002/study2/...  ...             0.0\n",
       "2  CheXpert-v1.0-small/train/patient00002/study1/...  ...             0.0\n",
       "3  CheXpert-v1.0-small/train/patient00003/study1/...  ...             0.0\n",
       "4  CheXpert-v1.0-small/train/patient00004/study1/...  ...             0.0\n",
       "\n",
       "[5 rows x 19 columns]"
      ]
     },
     "execution_count": 29,
     "metadata": {
      "tags": []
     },
     "output_type": "execute_result"
    }
   ],
   "source": [
    "# Training done on only frontal images.\n",
    "train_frontal = train[train['Frontal/Lateral'] == 'Frontal']\n",
    "train_frontal = train_frontal.reset_index(drop=True)\n",
    "train_frontal.head()"
   ]
  },
  {
   "cell_type": "code",
   "execution_count": 0,
   "metadata": {
    "colab": {
     "base_uri": "https://localhost:8080/",
     "height": 204
    },
    "colab_type": "code",
    "executionInfo": {
     "elapsed": 770,
     "status": "ok",
     "timestamp": 1588939057870,
     "user": {
      "displayName": "Vikramjeet Das",
      "photoUrl": "",
      "userId": "06313345172893405187"
     },
     "user_tz": -330
    },
    "id": "Ypd8Ygf2HQ26",
    "outputId": "3adc691f-a6b9-4faf-fc73-6f6457ed1214"
   },
   "outputs": [
    {
     "data": {
      "text/html": [
       "<div>\n",
       "<style scoped>\n",
       "    .dataframe tbody tr th:only-of-type {\n",
       "        vertical-align: middle;\n",
       "    }\n",
       "\n",
       "    .dataframe tbody tr th {\n",
       "        vertical-align: top;\n",
       "    }\n",
       "\n",
       "    .dataframe thead th {\n",
       "        text-align: right;\n",
       "    }\n",
       "</style>\n",
       "<table border=\"1\" class=\"dataframe\">\n",
       "  <thead>\n",
       "    <tr style=\"text-align: right;\">\n",
       "      <th></th>\n",
       "      <th>Path</th>\n",
       "      <th>Atelectasis</th>\n",
       "      <th>Cardiomegaly</th>\n",
       "      <th>Consolidation</th>\n",
       "      <th>Edema</th>\n",
       "      <th>Pleural Effusion</th>\n",
       "    </tr>\n",
       "  </thead>\n",
       "  <tbody>\n",
       "    <tr>\n",
       "      <th>0</th>\n",
       "      <td>CheXpert-v1.0-small/train/patient00001/study1/...</td>\n",
       "      <td>0.0</td>\n",
       "      <td>0.0</td>\n",
       "      <td>0.0</td>\n",
       "      <td>0.0</td>\n",
       "      <td>0.0</td>\n",
       "    </tr>\n",
       "    <tr>\n",
       "      <th>1</th>\n",
       "      <td>CheXpert-v1.0-small/train/patient00002/study2/...</td>\n",
       "      <td>0.0</td>\n",
       "      <td>0.0</td>\n",
       "      <td>0.0</td>\n",
       "      <td>0.0</td>\n",
       "      <td>0.0</td>\n",
       "    </tr>\n",
       "    <tr>\n",
       "      <th>2</th>\n",
       "      <td>CheXpert-v1.0-small/train/patient00002/study1/...</td>\n",
       "      <td>0.0</td>\n",
       "      <td>0.0</td>\n",
       "      <td>0.0</td>\n",
       "      <td>0.0</td>\n",
       "      <td>0.0</td>\n",
       "    </tr>\n",
       "    <tr>\n",
       "      <th>3</th>\n",
       "      <td>CheXpert-v1.0-small/train/patient00003/study1/...</td>\n",
       "      <td>0.0</td>\n",
       "      <td>0.0</td>\n",
       "      <td>0.0</td>\n",
       "      <td>1.0</td>\n",
       "      <td>0.0</td>\n",
       "    </tr>\n",
       "    <tr>\n",
       "      <th>4</th>\n",
       "      <td>CheXpert-v1.0-small/train/patient00004/study1/...</td>\n",
       "      <td>0.0</td>\n",
       "      <td>0.0</td>\n",
       "      <td>0.0</td>\n",
       "      <td>0.0</td>\n",
       "      <td>0.0</td>\n",
       "    </tr>\n",
       "  </tbody>\n",
       "</table>\n",
       "</div>"
      ],
      "text/plain": [
       "                                                Path  ...  Pleural Effusion\n",
       "0  CheXpert-v1.0-small/train/patient00001/study1/...  ...               0.0\n",
       "1  CheXpert-v1.0-small/train/patient00002/study2/...  ...               0.0\n",
       "2  CheXpert-v1.0-small/train/patient00002/study1/...  ...               0.0\n",
       "3  CheXpert-v1.0-small/train/patient00003/study1/...  ...               0.0\n",
       "4  CheXpert-v1.0-small/train/patient00004/study1/...  ...               0.0\n",
       "\n",
       "[5 rows x 6 columns]"
      ]
     },
     "execution_count": 30,
     "metadata": {
      "tags": []
     },
     "output_type": "execute_result"
    }
   ],
   "source": [
    "train_frontal = train_frontal[cols]\n",
    "train_frontal.head()"
   ]
  },
  {
   "cell_type": "code",
   "execution_count": 0,
   "metadata": {
    "colab": {
     "base_uri": "https://localhost:8080/",
     "height": 34
    },
    "colab_type": "code",
    "executionInfo": {
     "elapsed": 950,
     "status": "ok",
     "timestamp": 1588939059916,
     "user": {
      "displayName": "Vikramjeet Das",
      "photoUrl": "",
      "userId": "06313345172893405187"
     },
     "user_tz": -330
    },
    "id": "1kiXFovdHhhF",
    "outputId": "2e2df264-67cd-4e33-8f04-e4b65d3d5b0d"
   },
   "outputs": [
    {
     "data": {
      "text/plain": [
       "191027"
      ]
     },
     "execution_count": 31,
     "metadata": {
      "tags": []
     },
     "output_type": "execute_result"
    }
   ],
   "source": [
    "len(train_frontal)"
   ]
  },
  {
   "cell_type": "code",
   "execution_count": 0,
   "metadata": {
    "colab": {},
    "colab_type": "code",
    "id": "wkMQ5qyzHQ3E"
   },
   "outputs": [],
   "source": [
    "# Modify path to match that on colab\n",
    "train_frontal['Path'] = train_frontal.apply(lambda row : 'CheXpert-resized_1channel/' + (row['Path'].partition(\"/\")[2]).rpartition(\"/\")[0] + '/view1_frontal.jpg', axis = 1) "
   ]
  },
  {
   "cell_type": "code",
   "execution_count": 0,
   "metadata": {
    "colab": {
     "base_uri": "https://localhost:8080/",
     "height": 34
    },
    "colab_type": "code",
    "executionInfo": {
     "elapsed": 751,
     "status": "ok",
     "timestamp": 1587184571223,
     "user": {
      "displayName": "Vikramjeet Das",
      "photoUrl": "",
      "userId": "06313345172893405187"
     },
     "user_tz": -330
    },
    "id": "ZHh3bA251Q1T",
    "outputId": "93fe68f4-197d-45ac-bb79-191eef89d8bb"
   },
   "outputs": [
    {
     "data": {
      "text/plain": [
       "'patient00001'"
      ]
     },
     "execution_count": 9,
     "metadata": {
      "tags": []
     },
     "output_type": "execute_result"
    }
   ],
   "source": [
    "train_frontal.iloc[0]['Path'].split('/')[2]"
   ]
  },
  {
   "cell_type": "code",
   "execution_count": 0,
   "metadata": {
    "colab": {
     "base_uri": "https://localhost:8080/",
     "height": 204
    },
    "colab_type": "code",
    "executionInfo": {
     "elapsed": 1543,
     "status": "ok",
     "timestamp": 1588939081556,
     "user": {
      "displayName": "Vikramjeet Das",
      "photoUrl": "",
      "userId": "06313345172893405187"
     },
     "user_tz": -330
    },
    "id": "JfMCm7TZHQ3H",
    "outputId": "a11cb191-55bf-428c-ae73-8852e74bf6b1"
   },
   "outputs": [
    {
     "data": {
      "text/html": [
       "<div>\n",
       "<style scoped>\n",
       "    .dataframe tbody tr th:only-of-type {\n",
       "        vertical-align: middle;\n",
       "    }\n",
       "\n",
       "    .dataframe tbody tr th {\n",
       "        vertical-align: top;\n",
       "    }\n",
       "\n",
       "    .dataframe thead th {\n",
       "        text-align: right;\n",
       "    }\n",
       "</style>\n",
       "<table border=\"1\" class=\"dataframe\">\n",
       "  <thead>\n",
       "    <tr style=\"text-align: right;\">\n",
       "      <th></th>\n",
       "      <th>Path</th>\n",
       "      <th>Atelectasis</th>\n",
       "      <th>Cardiomegaly</th>\n",
       "      <th>Consolidation</th>\n",
       "      <th>Edema</th>\n",
       "      <th>Pleural Effusion</th>\n",
       "      <th>patient</th>\n",
       "    </tr>\n",
       "  </thead>\n",
       "  <tbody>\n",
       "    <tr>\n",
       "      <th>0</th>\n",
       "      <td>CheXpert-resized_1channel/train/patient00001/s...</td>\n",
       "      <td>0.0</td>\n",
       "      <td>0.0</td>\n",
       "      <td>0.0</td>\n",
       "      <td>0.0</td>\n",
       "      <td>0.0</td>\n",
       "      <td>patient00001</td>\n",
       "    </tr>\n",
       "    <tr>\n",
       "      <th>1</th>\n",
       "      <td>CheXpert-resized_1channel/train/patient00002/s...</td>\n",
       "      <td>0.0</td>\n",
       "      <td>0.0</td>\n",
       "      <td>0.0</td>\n",
       "      <td>0.0</td>\n",
       "      <td>0.0</td>\n",
       "      <td>patient00002</td>\n",
       "    </tr>\n",
       "    <tr>\n",
       "      <th>2</th>\n",
       "      <td>CheXpert-resized_1channel/train/patient00002/s...</td>\n",
       "      <td>0.0</td>\n",
       "      <td>0.0</td>\n",
       "      <td>0.0</td>\n",
       "      <td>0.0</td>\n",
       "      <td>0.0</td>\n",
       "      <td>patient00002</td>\n",
       "    </tr>\n",
       "    <tr>\n",
       "      <th>3</th>\n",
       "      <td>CheXpert-resized_1channel/train/patient00003/s...</td>\n",
       "      <td>0.0</td>\n",
       "      <td>0.0</td>\n",
       "      <td>0.0</td>\n",
       "      <td>1.0</td>\n",
       "      <td>0.0</td>\n",
       "      <td>patient00003</td>\n",
       "    </tr>\n",
       "    <tr>\n",
       "      <th>4</th>\n",
       "      <td>CheXpert-resized_1channel/train/patient00004/s...</td>\n",
       "      <td>0.0</td>\n",
       "      <td>0.0</td>\n",
       "      <td>0.0</td>\n",
       "      <td>0.0</td>\n",
       "      <td>0.0</td>\n",
       "      <td>patient00004</td>\n",
       "    </tr>\n",
       "  </tbody>\n",
       "</table>\n",
       "</div>"
      ],
      "text/plain": [
       "                                                Path  ...       patient\n",
       "0  CheXpert-resized_1channel/train/patient00001/s...  ...  patient00001\n",
       "1  CheXpert-resized_1channel/train/patient00002/s...  ...  patient00002\n",
       "2  CheXpert-resized_1channel/train/patient00002/s...  ...  patient00002\n",
       "3  CheXpert-resized_1channel/train/patient00003/s...  ...  patient00003\n",
       "4  CheXpert-resized_1channel/train/patient00004/s...  ...  patient00004\n",
       "\n",
       "[5 rows x 7 columns]"
      ]
     },
     "execution_count": 33,
     "metadata": {
      "tags": []
     },
     "output_type": "execute_result"
    }
   ],
   "source": [
    "# Get the patient ids\n",
    "train_frontal['patient'] = train_frontal.Path.str.split('/',3,True)[2]\n",
    "train_frontal.head()"
   ]
  },
  {
   "cell_type": "code",
   "execution_count": 0,
   "metadata": {
    "colab": {
     "base_uri": "https://localhost:8080/",
     "height": 51
    },
    "colab_type": "code",
    "executionInfo": {
     "elapsed": 1243,
     "status": "ok",
     "timestamp": 1588939091384,
     "user": {
      "displayName": "Vikramjeet Das",
      "photoUrl": "",
      "userId": "06313345172893405187"
     },
     "user_tz": -330
    },
    "id": "4uRjtlEUxMO4",
    "outputId": "619729b7-0be6-41bb-a678-8239110cfb3b"
   },
   "outputs": [
    {
     "name": "stdout",
     "output_type": "stream",
     "text": [
      "64534 unique patients\n",
      "191027 unique images\n"
     ]
    }
   ],
   "source": [
    "print(f\"{train_frontal['patient'].nunique()} unique patients\")\n",
    "print(f\"{len(train_frontal)} unique images\")"
   ]
  },
  {
   "cell_type": "markdown",
   "metadata": {
    "colab_type": "text",
    "id": "I3LQLHFk9Dn8"
   },
   "source": [
    "# Generate a random mask for each unique patient\n",
    "Patients will be split into a 95 / 5 // train / validation set according to this. Some ids are skipped in the dataset, the last id is 64541"
   ]
  },
  {
   "cell_type": "code",
   "execution_count": 0,
   "metadata": {
    "colab": {},
    "colab_type": "code",
    "id": "--GY7lZl6W05"
   },
   "outputs": [],
   "source": [
    "mask = []\n",
    "for i in range(64541):\n",
    "  p = random.random()\n",
    "  if p > 0.05:\n",
    "    mask.append(0)\n",
    "  else:\n",
    "    mask.append(1)"
   ]
  },
  {
   "cell_type": "markdown",
   "metadata": {
    "colab_type": "text",
    "id": "Q5SM5Rry9PKs"
   },
   "source": [
    "# Create train val splits\n",
    "There are now no patient overlaps between train and val splits"
   ]
  },
  {
   "cell_type": "code",
   "execution_count": 2,
   "metadata": {
    "colab": {
     "base_uri": "https://localhost:8080/",
     "height": 1000
    },
    "colab_type": "code",
    "executionInfo": {
     "elapsed": 723770,
     "status": "ok",
     "timestamp": 1588939820919,
     "user": {
      "displayName": "Vikramjeet Das",
      "photoUrl": "",
      "userId": "06313345172893405187"
     },
     "user_tz": -330
    },
    "id": "JAXTXhS68nC5",
    "outputId": "3f36e205-b200-45a3-a049-87a3e66e8bfc"
   },
   "outputs": [],
   "source": [
    "train_df = []\n",
    "val_df = []\n",
    "for idx,e in enumerate(mask):\n",
    "  if e == 1:\n",
    "    val_df.append(train_frontal[train_frontal['patient'] == 'patient' + str(idx+1).zfill(5)])\n",
    "  else:\n",
    "    train_df.append(train_frontal[train_frontal['patient'] == 'patient' + str(idx+1).zfill(5)])\n",
    "\n",
    "train_df = pd.concat(train_df)\n",
    "val_df = pd.concat(val_df)"
   ]
  },
  {
   "cell_type": "code",
   "execution_count": 0,
   "metadata": {
    "colab": {
     "base_uri": "https://localhost:8080/",
     "height": 51
    },
    "colab_type": "code",
    "executionInfo": {
     "elapsed": 1066,
     "status": "ok",
     "timestamp": 1588939823931,
     "user": {
      "displayName": "Vikramjeet Das",
      "photoUrl": "",
      "userId": "06313345172893405187"
     },
     "user_tz": -330
    },
    "id": "zaI96Rrp36h8",
    "outputId": "1739fbbe-0e0b-48c6-a6bf-c1a6e3b2d704"
   },
   "outputs": [
    {
     "name": "stdout",
     "output_type": "stream",
     "text": [
      "Length of val df: 9561\n",
      "Length of train df: 181466\n"
     ]
    }
   ],
   "source": [
    "print(f\"Length of val df: {len(val_df)}\")\n",
    "print(f\"Length of train df: {len(train_df)}\")"
   ]
  },
  {
   "cell_type": "code",
   "execution_count": 0,
   "metadata": {
    "colab": {},
    "colab_type": "code",
    "id": "NT46NmHEZHyF"
   },
   "outputs": [],
   "source": [
    "# Save splits to drive for furthur use. All models are trained with this split.\n",
    "train_df.to_csv('train_mod.csv') \n",
    "val_df.to_csv('val_mod.csv') "
   ]
  },
  {
   "cell_type": "code",
   "execution_count": 0,
   "metadata": {
    "colab": {},
    "colab_type": "code",
    "id": "Nm976whxZH-p"
   },
   "outputs": [],
   "source": [
    "!cp drive/My\\ Drive/Colab\\ Notebooks/cheXpert/train_mod.csv .\n",
    "!cp drive/My\\ Drive/Colab\\ Notebooks/cheXpert/val_mod.csv ."
   ]
  },
  {
   "cell_type": "code",
   "execution_count": 0,
   "metadata": {
    "colab": {},
    "colab_type": "code",
    "id": "BjxUJYXsoNaR"
   },
   "outputs": [],
   "source": [
    "train_df = pd.read_csv('train_mod.csv')\n",
    "val_df = pd.read_csv('val_mod.csv')"
   ]
  },
  {
   "cell_type": "markdown",
   "metadata": {
    "colab_type": "text",
    "id": "DhC_VZtg9TZV"
   },
   "source": [
    "We cross check that there is no leakage between train and validation set"
   ]
  },
  {
   "cell_type": "code",
   "execution_count": 0,
   "metadata": {
    "colab": {},
    "colab_type": "code",
    "id": "spg5aw4iV93d"
   },
   "outputs": [],
   "source": [
    "def check_for_leakage(df1, df2, patient_col):\n",
    "    \"\"\"\n",
    "    Return True if there any patients are in both df1 and df2.\n",
    "\n",
    "    Args:\n",
    "        df1 (dataframe): dataframe describing first dataset\n",
    "        df2 (dataframe): dataframe describing second dataset\n",
    "        patient_col (str): string name of column with patient IDs\n",
    "    \n",
    "    Returns:\n",
    "        leakage (bool): True if there is leakage, otherwise False\n",
    "    \"\"\"\n",
    "    \n",
    "    df1_patients_unique = df1[patient_col].unique()\n",
    "    df2_patients_unique = df2[patient_col].unique()\n",
    "    \n",
    "    patients_in_both_groups = list(set(df1_patients_unique).intersection(set(df2_patients_unique)))\n",
    "\n",
    "    # leakage contains true if there is patient overlap, otherwise false.\n",
    "    leakage = True if len(patients_in_both_groups) > 0 else False \n",
    "        \n",
    "    return leakage"
   ]
  },
  {
   "cell_type": "code",
   "execution_count": 0,
   "metadata": {
    "colab": {
     "base_uri": "https://localhost:8080/",
     "height": 34
    },
    "colab_type": "code",
    "executionInfo": {
     "elapsed": 689,
     "status": "ok",
     "timestamp": 1588939854812,
     "user": {
      "displayName": "Vikramjeet Das",
      "photoUrl": "",
      "userId": "06313345172893405187"
     },
     "user_tz": -330
    },
    "id": "1qoZstrhV-Ck",
    "outputId": "0e152646-adce-44ca-b04b-3858be351883"
   },
   "outputs": [
    {
     "name": "stdout",
     "output_type": "stream",
     "text": [
      "leakage between train and valid: False\n"
     ]
    }
   ],
   "source": [
    "print(\"leakage between train and valid: {}\".format(check_for_leakage(train_df, val_df, 'patient')))"
   ]
  },
  {
   "cell_type": "markdown",
   "metadata": {
    "colab_type": "text",
    "id": "td4ZUQTZ9byy"
   },
   "source": [
    "# Build the model: DenseNet with SE optimization"
   ]
  },
  {
   "cell_type": "code",
   "execution_count": 0,
   "metadata": {
    "colab": {},
    "colab_type": "code",
    "id": "VPRV4Se6HQ3M"
   },
   "outputs": [],
   "source": [
    "import tensorflow as tf\n",
    "from tensorflow.keras.layers import Input, Conv2D, MaxPool2D, Dense, BatchNormalization, Activation, ZeroPadding2D, GlobalAvgPool2D, Concatenate, multiply, Reshape, Permute, Dropout, ReLU\n",
    "from tensorflow.keras.activations import sigmoid\n",
    "from tensorflow.keras.backend import expand_dims\n",
    "from tensorflow.keras.models import Model\n",
    "from tensorflow.keras.optimizers import Adam, SGD\n",
    "import tensorflow.keras.backend as K\n",
    "import matplotlib.pyplot as plt\n",
    "\n",
    "%matplotlib inline"
   ]
  },
  {
   "cell_type": "code",
   "execution_count": 0,
   "metadata": {
    "colab": {},
    "colab_type": "code",
    "id": "UVumStNwHQ3P"
   },
   "outputs": [],
   "source": [
    "def denseNet(growth_rate=32, nb_filters=None, dense_layer_depths=[6,12,24,16],\n",
    "            input_shape=(224, 224, 3), compression=0.0, batch_size=32, growth_enabled=True, \n",
    "            output_classes=None, squeeze_excitation=True, squeeze_factor=None, \n",
    "            dropout=0.0, data_format='channels_last', net_no=None):\n",
    "    \"\"\"\n",
    "        Default Densenet121 parameters\n",
    "        growth_rate (int): Number of new feature maps per dense layer\n",
    "        nb_filter (int): Number of filters, default to 2 * growth_rate\n",
    "        dense_layer_depths (list[int]): BN-ReLU-Conv2D layers per dense layer\n",
    "        input_shape (tuple): Default to imagenet size\n",
    "        compression (float): Reduction in feature maps in bottleneck layer\n",
    "        batch_size (int): Batch_size\n",
    "        growth_enabled (bool): Grow number of filters per dense block\n",
    "        output_classes (int): Size of final classification layer\n",
    "        squeeze_excitation (bool): Include squeeze excitation blocks in dense layers\n",
    "        squeeze_ratio (float): Compression factor for squeeze\n",
    "        dropout (float):\n",
    "        net_no (Any): dense net number, for use in differentiating layers when\n",
    "                using multiple denseNets together in same model.\n",
    "                Also a Tensorflow requirement (unique layer names)\n",
    "    \"\"\"\n",
    "    if net_no != None:\n",
    "        net_no = '_' + str(net_no)\n",
    "    assert output_classes != None, 'Found output size \\'None\\', expected \\'int32\\''\n",
    "    assert not (squeeze_excitation == True and squeeze_factor is None), 'Must provide squeeze_factor if squeeze excitation is enabled'\n",
    "    if nb_filters is None:\n",
    "        nb_filters = growth_rate * 2\n",
    "    \n",
    "    input_image = Input(input_shape, name='Input_' + str(net_no))\n",
    "    num_dense_layers = len(dense_layer_depths)\n",
    "    x = ZeroPadding2D((3, 3), name='conv1_zero_padding' + str(net_no), batch_size=batch_size, data_format=data_format)(input_image)\n",
    "    x = Conv2D(nb_filters, (7, 7), strides=2, name='conv1' + str(net_no), data_format=data_format, use_bias=False)(x)\n",
    "    x = BatchNormalization(name='conv1_bn' + str(net_no))(x)\n",
    "    x = Activation('relu', name='relu1' + str(net_no))(x)\n",
    "    x = ZeroPadding2D((1, 1), name='pool1_zero_padding' + str(net_no), data_format=data_format)(x)\n",
    "    x = MaxPool2D((3, 3), strides=(2, 2), name='pool1' + str(net_no), data_format=data_format)(x)\n",
    "    for dense_layer_no in range(0, num_dense_layers - 1):\n",
    "        block_no = dense_layer_no + 2\n",
    "        x, nb_filters = dense_block(x, growth_rate, nb_filters, dropout, dense_layer_depths[dense_layer_no], block_no, data_format, growth_enabled, net_no)\n",
    "\n",
    "        if squeeze_excitation == True:\n",
    "            x = squeeze_excitation_block(x, nb_filters, squeeze_factor, block_no, 'dense', net_no)\n",
    "\n",
    "        x = transition_block(x, nb_filters, compression, dropout, block_no, data_format, net_no)\n",
    "        nb_filters = int(nb_filters * (1 - compression))\n",
    "        \n",
    "        if squeeze_excitation == True:\n",
    "            x = squeeze_excitation_block(x, nb_filters, squeeze_factor, block_no, 'transition', net_no)\n",
    "            \n",
    "        \n",
    "    block_no += 1\n",
    "    \n",
    "    x, nb_filters = dense_block(x, growth_rate, nb_filters, dropout, dense_layer_depths[num_dense_layers - 1], block_no, data_format, growth_enabled, net_no)\n",
    "\n",
    "    if squeeze_excitation == True:\n",
    "        x = squeeze_excitation_block(x, nb_filters, squeeze_factor, block_no, 'final', net_no)\n",
    "    x = BatchNormalization(name='conv_final_bn' + '_' + str(net_no))(x)\n",
    "    int_op = Activation('relu', name='relu_final' + '_' + str(net_no))(x)\n",
    "    x = GlobalAvgPool2D(name='global_avg_pool_final' + '_' + str(net_no))(int_op)\n",
    "    x = Dense(output_classes, name='prediction_layer' + '_' + str(net_no))(x)\n",
    "    op = Activation('sigmoid', name='sigmoid_final' + '_' + str(net_no))(x)\n",
    "    model = Model(inputs=input_image, outputs=op, name = 'model' + net_no)\n",
    "        \n",
    "    return model\n",
    "\n",
    "def conv_block(x, nb_filters, dropout, branch, block_no, data_format, net_no):\n",
    "    '''\n",
    "        x (tensor): input to the block\n",
    "        nb_filters (int): baseline number of filters\n",
    "        dropout (float): \n",
    "        branch (int): For naming purposes\n",
    "        data_format: data format to use: channels first or last\n",
    "        net_no (Any): \n",
    "    '''\n",
    "    name_postfix = '_' + str(block_no) + '_' + str(branch)\n",
    "    \n",
    "    # 1x1 convolution for bottleneck layer\n",
    "    x = BatchNormalization(name='batchnorm1x1_' + name_postfix + '_' + str(net_no))(x)\n",
    "    x = Activation('relu', name='relu1x1_' + str(block_no) + '_' + str(branch) + '_' + str(net_no))(x)\n",
    "    bottleneck_filters = nb_filters * 4\n",
    "    x = Conv2D(bottleneck_filters, (1,1), strides=(1,1), data_format=data_format, name='conv1x1_' + name_postfix + '_' + str(net_no), use_bias=False)(x)\n",
    "    \n",
    "    # 3x3 convolution\n",
    "    x = BatchNormalization(name='batchnorm3x3_' + name_postfix + '_' + str(net_no))(x)\n",
    "    x = Activation('relu', name='relu3x3_' + name_postfix + '_' + str(net_no))(x)\n",
    "    x = ZeroPadding2D((1,1), data_format=data_format, name='zeropadding3x3_' + name_postfix + '_' + str(net_no))(x)\n",
    "    x = Conv2D(nb_filters, (3,3), strides=(1,1), data_format=data_format, name='conv3x3_' + name_postfix + '_' + str(net_no), use_bias=False)(x)\n",
    "    \n",
    "    return x\n",
    "\n",
    "def squeeze_excitation_block(x, nb_filters, squeeze_factor, block_no, stage, net_no):\n",
    "    '''\n",
    "        x (tensor): input to the block\n",
    "        nb_filters (int): baseline number of filters\n",
    "        squeeze_factor (float): Factor by which to downsample the input. Number of filters = nb_filters // squeeze_factor\n",
    "        block_no (int): For naming purposes only\n",
    "        stage (str): transition or dense, for naming only\n",
    "        net_no (Any): \n",
    "    '''\n",
    "\n",
    "    initial = x\n",
    "    se_shape = (1, 1, nb_filters)\n",
    "\n",
    "    se = GlobalAvgPool2D(name='global_avg_pool_se_' + str(block_no) + stage + '_' + str(net_no))(initial)\n",
    "    se = Reshape(se_shape, name='reshape_se_' + str(block_no) + stage + '_' + str(net_no))(se)\n",
    "    se = Dense(nb_filters // squeeze_factor, activation='relu', kernel_initializer='he_normal', use_bias=False, name='dense_squeeze_se_' + str(block_no) + stage + '_' + str(net_no))(se)\n",
    "    se = Dense(nb_filters, activation='sigmoid', kernel_initializer='he_normal', use_bias=False, name='dense_excite_se_' + str(block_no) + stage + '_' + str(net_no))(se)\n",
    "\n",
    "    x = multiply([initial, se], name='multiply_se_' + str(block_no) + stage + '_' + str(net_no))\n",
    "    return x\n",
    "\n",
    "def transition_block(x, nb_filters, compression, dropout, block_no, data_format, net_no):\n",
    "    '''\n",
    "        x (tensor): input to the block\n",
    "        nb_filters (int): baseline number of filters\n",
    "        compression (float): Fraction of conv layers to drop\n",
    "        dropout (float):\n",
    "        block_no (int): For naming purposes only\n",
    "        data_format: data format to use: channels first or last\n",
    "        net_no (Any): \n",
    "    '''\n",
    "\n",
    "    x = BatchNormalization(axis = -1, name='batchnorm_transition' + str(block_no) + '_' + str(net_no))(x)\n",
    "    x = Activation('relu', name='relu_transition' + str(block_no) + '_' + str(net_no))(x)\n",
    "    x = Conv2D(int(nb_filters * (1 - compression)), (1,1), strides=(1,1), data_format=data_format, name='conv_transition_' + str(block_no) + '_' + str(net_no), use_bias=False)(x)\n",
    "    x = MaxPool2D((2,2), 2, data_format=data_format, name='maxpool_transition_' + str(block_no) + '_' + str(net_no))(x)\n",
    "    return x\n",
    "\n",
    "def dense_block(x, growth_rate, nb_filters, dropout, depth, block_no, data_format, growth_enabled=True, net_no=None):\n",
    "    '''\n",
    "        x (tensor): input to the block\n",
    "        growth_rate (int): Number of filters to increase per block. Also serves as the number of filters for each conv block\n",
    "        nb_filters (int): Baseline number of filters\n",
    "        dropout (float): dropout\n",
    "        depth (int): Number of conv layers in the block\n",
    "        block_no (int): For naming purposes only\n",
    "        data_format (str): One of channels_first or channels_last\n",
    "        growth_enabled (bool): Increase number of conv layers each block\n",
    "        net_no (Any): For naming purposes only\n",
    "    '''\n",
    "    concat = x\n",
    "    \n",
    "    for i in range(depth):\n",
    "        x = conv_block(x, growth_rate, dropout, i + 1, block_no, data_format, net_no)\n",
    "        concat = Concatenate(axis = -1)([concat, x])\n",
    "        if growth_enabled:\n",
    "            nb_filters += growth_rate\n",
    "            \n",
    "    return concat, nb_filters"
   ]
  },
  {
   "cell_type": "markdown",
   "metadata": {
    "colab_type": "text",
    "id": "gWKlnmKrvwIz"
   },
   "source": [
    "# Image data generators\n",
    "Normalize images, with random rotations width and height shifts for training data"
   ]
  },
  {
   "cell_type": "code",
   "execution_count": 0,
   "metadata": {
    "colab": {
     "base_uri": "https://localhost:8080/",
     "height": 51
    },
    "colab_type": "code",
    "executionInfo": {
     "elapsed": 2597,
     "status": "ok",
     "timestamp": 1588939871188,
     "user": {
      "displayName": "Vikramjeet Das",
      "photoUrl": "",
      "userId": "06313345172893405187"
     },
     "user_tz": -330
    },
    "id": "BzVk8bitHQ3R",
    "outputId": "8652b209-3172-420f-ad82-fc9c36a0fe92"
   },
   "outputs": [
    {
     "name": "stdout",
     "output_type": "stream",
     "text": [
      "Found 181240 validated image filenames.\n",
      "Found 9787 validated image filenames.\n"
     ]
    }
   ],
   "source": [
    "from tensorflow.keras.preprocessing.image import ImageDataGenerator\n",
    "\n",
    "train_gen = ImageDataGenerator(samplewise_center=True,\n",
    "                              samplewise_std_normalization= True,\n",
    "                              rotation_range=5,\n",
    "                              width_shift_range=0.2,\n",
    "                              height_shift_range=0.2,\n",
    "                              horizontal_flip=True).flow_from_dataframe(\n",
    "                              train_df,\n",
    "                              x_col='Path',\n",
    "                              y_col=disease_list,\n",
    "                              class_mode='raw',\n",
    "                              batch_size=32,\n",
    "                              target_size=(224, 224),\n",
    "                              color_mode='grayscale',\n",
    "                              shuffle=True,\n",
    "                          )\n",
    "\n",
    "val_gen = ImageDataGenerator(samplewise_center=True,\n",
    "                            samplewise_std_normalization= True,\n",
    "                             ).flow_from_dataframe(\n",
    "                            val_df,\n",
    "                            x_col='Path',\n",
    "                            y_col=disease_list,\n",
    "                            class_mode='raw',\n",
    "                            batch_size=32,\n",
    "                            target_size=(224, 224),\n",
    "                            color_mode='grayscale',\n",
    "                            shuffle=False,\n",
    "                        )"
   ]
  },
  {
   "cell_type": "markdown",
   "metadata": {
    "colab_type": "text",
    "id": "Ae0Kjihhv78h"
   },
   "source": [
    "# Loss function\n",
    "We need to handle the class imbalance"
   ]
  },
  {
   "cell_type": "code",
   "execution_count": 0,
   "metadata": {
    "colab": {
     "base_uri": "https://localhost:8080/",
     "height": 349
    },
    "colab_type": "code",
    "executionInfo": {
     "elapsed": 1216,
     "status": "ok",
     "timestamp": 1588939874313,
     "user": {
      "displayName": "Vikramjeet Das",
      "photoUrl": "",
      "userId": "06313345172893405187"
     },
     "user_tz": -330
    },
    "id": "sK-wts9NM5Mb",
    "outputId": "2e856ce6-1d2b-4fea-da20-798fdaa2fc71"
   },
   "outputs": [
    {
     "data": {
      "image/png": "[encoded data removed]",
      "text/plain": [
       "<Figure size 432x288 with 1 Axes>"
      ]
     },
     "metadata": {
      "needs_background": "light",
      "tags": []
     },
     "output_type": "display_data"
    }
   ],
   "source": [
    "plt.xticks(rotation=90)\n",
    "plt.bar(x=disease_list, height=np.mean(train_gen.labels, axis=0))\n",
    "plt.title(\"Frequency of Each Class\")\n",
    "plt.show()"
   ]
  },
  {
   "cell_type": "code",
   "execution_count": 0,
   "metadata": {
    "colab": {},
    "colab_type": "code",
    "id": "XKWEhVUtHQ3U"
   },
   "outputs": [],
   "source": [
    "def compute_class_freqs(labels):\n",
    "    \"\"\"\n",
    "    Compute positive and negative frequences for each class.\n",
    "\n",
    "    Args:\n",
    "        labels (np.array): matrix of labels, size (num_examples, num_classes)\n",
    "    Returns:\n",
    "        positive_frequencies (np.array): array of positive frequences for each\n",
    "                                         class, size (num_classes)\n",
    "        negative_frequencies (np.array): array of negative frequences for each\n",
    "                                         class, size (num_classes)\n",
    "    \"\"\"\n",
    "    \n",
    "    # total number of patients (rows)\n",
    "    N = len(labels)\n",
    "    \n",
    "    positive_frequencies = np.sum(labels==1, axis = 0) / N\n",
    "    negative_frequencies = np.sum(labels==0, axis = 0) / N\n",
    "\n",
    "    return positive_frequencies, negative_frequencies"
   ]
  },
  {
   "cell_type": "markdown",
   "metadata": {
    "colab_type": "text",
    "id": "YwJB08t-wB8S"
   },
   "source": [
    "We weight each class to equalize weightage of positive and negative samples"
   ]
  },
  {
   "cell_type": "code",
   "execution_count": 0,
   "metadata": {
    "colab": {
     "base_uri": "https://localhost:8080/",
     "height": 347
    },
    "colab_type": "code",
    "executionInfo": {
     "elapsed": 1562,
     "status": "ok",
     "timestamp": 1588939909118,
     "user": {
      "displayName": "Vikramjeet Das",
      "photoUrl": "",
      "userId": "06313345172893405187"
     },
     "user_tz": -330
    },
    "id": "X8BlFgo7PXFW",
    "outputId": "58555055-7dd0-4d4b-f326-76e7b0e3065b"
   },
   "outputs": [
    {
     "data": {
      "image/png": "[encoded data removed]",
      "text/plain": [
       "<Figure size 432x288 with 1 Axes>"
      ]
     },
     "metadata": {
      "needs_background": "light",
      "tags": []
     },
     "output_type": "display_data"
    }
   ],
   "source": [
    "freq_pos, freq_neg = compute_class_freqs(train_gen.labels)\n",
    "data = pd.DataFrame({\"Class\": disease_list, \"Label\": \"Positive\", \"Value\": freq_pos})\n",
    "data = data.append([{\"Class\": disease_list[l], \"Label\": \"Negative\", \"Value\": v} for l,v in enumerate(freq_neg)], ignore_index=True)\n",
    "plt.xticks(rotation=90)\n",
    "f = sns.barplot(x=\"Class\", y=\"Value\", hue=\"Label\" ,data=data)"
   ]
  },
  {
   "cell_type": "code",
   "execution_count": 0,
   "metadata": {
    "colab": {},
    "colab_type": "code",
    "id": "bcwXaAGaRfTV"
   },
   "outputs": [],
   "source": [
    "pos_weights = freq_neg\n",
    "neg_weights = freq_pos\n",
    "pos_contribution = freq_pos * pos_weights \n",
    "neg_contribution = freq_neg * neg_weights"
   ]
  },
  {
   "cell_type": "code",
   "execution_count": 0,
   "metadata": {
    "colab": {
     "base_uri": "https://localhost:8080/",
     "height": 349
    },
    "colab_type": "code",
    "executionInfo": {
     "elapsed": 1949,
     "status": "ok",
     "timestamp": 1588939913328,
     "user": {
      "displayName": "Vikramjeet Das",
      "photoUrl": "",
      "userId": "06313345172893405187"
     },
     "user_tz": -330
    },
    "id": "jZlmGOSORkQe",
    "outputId": "3b0582d5-d3ef-4e8e-9978-cb246f497a12"
   },
   "outputs": [
    {
     "data": {
      "image/png": "[encoded data removed]",
      "text/plain": [
       "<Figure size 432x288 with 1 Axes>"
      ]
     },
     "metadata": {
      "needs_background": "light",
      "tags": []
     },
     "output_type": "display_data"
    }
   ],
   "source": [
    "data = pd.DataFrame({\"Class\": disease_list, \"Label\": \"Positive\", \"Value\": pos_contribution})\n",
    "data = data.append([{\"Class\": disease_list[l], \"Label\": \"Negative\", \"Value\": v} \n",
    "                        for l,v in enumerate(neg_contribution)], ignore_index=True)\n",
    "plt.xticks(rotation=90)\n",
    "sns.barplot(x=\"Class\", y=\"Value\", hue=\"Label\" ,data=data);"
   ]
  },
  {
   "cell_type": "code",
   "execution_count": 0,
   "metadata": {
    "colab": {},
    "colab_type": "code",
    "id": "lJfMpGKARkY7"
   },
   "outputs": [],
   "source": [
    "def get_weighted_loss(pos_weights, neg_weights, epsilon=1e-7):\n",
    "    \"\"\"\n",
    "    Return weighted loss function given negative weights and positive weights.\n",
    "\n",
    "    Args:\n",
    "      pos_weights (np.array): array of positive weights for each class, size (num_classes)\n",
    "      neg_weights (np.array): array of negative weights for each class, size (num_classes)\n",
    "    \n",
    "    Returns:\n",
    "      weighted_loss (function): weighted loss function\n",
    "    \"\"\"\n",
    "    def weighted_loss(y_true, y_pred):\n",
    "        \"\"\"\n",
    "        Return weighted loss value. \n",
    "\n",
    "        Args:\n",
    "            y_true (Tensor): Tensor of true labels, size is (num_examples, num_classes)\n",
    "            y_pred (Tensor): Tensor of predicted labels, size is (num_examples, num_classes)\n",
    "        Returns:\n",
    "            loss (Tensor): overall scalar loss summed across all classes\n",
    "        \"\"\"\n",
    "        # initialize loss to zero\n",
    "        loss = 0.0\n",
    "        \n",
    "\n",
    "        for i in range(len(pos_weights)):\n",
    "            # for each class, add average weighted loss for that class \n",
    "            loss += -K.mean(((pos_weights * y_true * K.log(y_pred + epsilon) + neg_weights * (1 - y_true) * K.log(1 - y_pred + epsilon))))\n",
    "        return loss\n",
    "    \n",
    "    return weighted_loss"
   ]
  },
  {
   "cell_type": "markdown",
   "metadata": {
    "colab_type": "text",
    "id": "PfqnZs-_wWCL"
   },
   "source": [
    "Learning rate and other hyperparameters have been manually monitored due to timeout limitations of Google Colab. Feel free to add other callbacks.\n",
    "Each epoch takes approximately 17-20 minutes on Colab's GPU"
   ]
  },
  {
   "cell_type": "code",
   "execution_count": 0,
   "metadata": {
    "colab": {},
    "colab_type": "code",
    "id": "RA9aW-zHHQ3W"
   },
   "outputs": [],
   "source": [
    "model_frontal = denseNet(output_classes=5, squeeze_factor=16, squeeze_excitation=True, net_no = 1)"
   ]
  },
  {
   "cell_type": "code",
   "execution_count": 0,
   "metadata": {
    "colab": {},
    "colab_type": "code",
    "id": "DsogLMxsHQ3X"
   },
   "outputs": [],
   "source": [
    "checkpoint_callback = tf.keras.callbacks.ModelCheckpoint('models/model_frontal.{epoch:02d}-{loss:.2f}.hdf5', verbose=0, save_best_only=False, save_weights_only=False, mode='auto', save_freq='epoch')"
   ]
  },
  {
   "cell_type": "code",
   "execution_count": 0,
   "metadata": {
    "colab": {},
    "colab_type": "code",
    "id": "3DA-rEL6HQ3Z"
   },
   "outputs": [],
   "source": [
    "adamopt = Adam(learning_rate=0.0001)\n",
    "model_frontal.compile(optimizer=adamopt, loss=get_weighted_loss(pos_weights, neg_weights), metrics=['accuracy', tf.keras.metrics.AUC()])"
   ]
  },
  {
   "cell_type": "code",
   "execution_count": 0,
   "metadata": {
    "colab": {
     "base_uri": "https://localhost:8080/",
     "height": 139
    },
    "colab_type": "code",
    "executionInfo": {
     "elapsed": 3094129,
     "status": "ok",
     "timestamp": 1588943126019,
     "user": {
      "displayName": "Vikramjeet Das",
      "photoUrl": "",
      "userId": "06313345172893405187"
     },
     "user_tz": -330
    },
    "id": "lH-yCmh9HQ3b",
    "outputId": "54fafae5-451d-4bfb-8ce2-489aabe1bd87"
   },
   "outputs": [
    {
     "name": "stdout",
     "output_type": "stream",
     "text": [
      "Epoch 1/3\n",
      "5663/5663 [==============================] - 1025s 181ms/step - loss: 0.7782 - accuracy: 0.4204 - auc: 0.8077 - val_loss: 0.7768 - val_accuracy: 0.4252 - val_auc: 0.8069\n",
      "Epoch 2/3\n",
      "5663/5663 [==============================] - 1023s 181ms/step - loss: 0.7783 - accuracy: 0.4203 - auc: 0.8071 - val_loss: 0.7769 - val_accuracy: 0.4296 - val_auc: 0.8052\n",
      "Epoch 3/3\n",
      "5663/5663 [==============================] - 1021s 180ms/step - loss: 0.7780 - accuracy: 0.4194 - auc: 0.8070 - val_loss: 0.7759 - val_accuracy: 0.4261 - val_auc: 0.8053\n"
     ]
    }
   ],
   "source": [
    "history = model_frontal.fit(train_gen, \n",
    "                            validation_data=val_gen,\n",
    "                            steps_per_epoch=train_gen.n // 32, \n",
    "                            validation_steps=val_gen.n // 32, \n",
    "                            epochs = 3,\n",
    "                            callbacks=[checkpoint_callback])\n"
   ]
  },
  {
   "cell_type": "code",
   "execution_count": 0,
   "metadata": {
    "colab": {},
    "colab_type": "code",
    "id": "ueCqsgAdM1DV"
   },
   "outputs": [],
   "source": [
    "# Save model to drive\n",
    "!cp drive/My\\ Drive/Colab\\ Notebooks/cheXpert/models/model_frontal_best.hdf5 models/"
   ]
  }
 ],
 "metadata": {
  "accelerator": "GPU",
  "colab": {
   "collapsed_sections": [],
   "machine_shape": "hm",
   "name": "Copy of training_densenet_frontal_mod.ipynb",
   "provenance": []
  },
  "kernelspec": {
   "display_name": "Python 3",
   "language": "python",
   "name": "python3"
  },
  "language_info": {
   "codemirror_mode": {
    "name": "ipython",
    "version": 3
   },
   "file_extension": ".py",
   "mimetype": "text/x-python",
   "name": "python",
   "nbconvert_exporter": "python",
   "pygments_lexer": "ipython3",
   "version": "3.7.7"
  }
 },
 "nbformat": 4,
 "nbformat_minor": 1
}
